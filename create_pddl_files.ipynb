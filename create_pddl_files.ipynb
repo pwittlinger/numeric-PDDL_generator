{
 "cells": [
  {
   "cell_type": "code",
   "execution_count": 1,
   "id": "a69be5e2-ced2-4611-a30a-4427cfeeb6b8",
   "metadata": {},
   "outputs": [],
   "source": [
    "import os\n",
    "import sys\n",
    "import subprocess\n",
    "import pm4py"
   ]
  },
  {
   "cell_type": "code",
   "execution_count": 4,
   "id": "30ed2022-b1f7-4fbf-84f9-e6f5e0b5b572",
   "metadata": {},
   "outputs": [],
   "source": [
    "input_path = r\"C:\\Users\\paulw\\Desktop\\numeric-PDDL_generator\\pddl_gen\\src\\main\\resources\\input\""
   ]
  },
  {
   "cell_type": "code",
   "execution_count": null,
   "id": "fa2ba4a2",
   "metadata": {},
   "outputs": [],
   "source": []
  },
  {
   "cell_type": "code",
   "execution_count": null,
   "id": "7082d2b0",
   "metadata": {},
   "outputs": [],
   "source": []
  },
  {
   "cell_type": "code",
   "execution_count": 35,
   "id": "6d6ed3e8-ec90-4814-849e-384c1429b71f",
   "metadata": {},
   "outputs": [],
   "source": [
    "#cost_model = os.path.join(input_path, \"cost_model.txt\")\n",
    "#variable_values = os.path.join(input_path, \"variable_values.txt\")\n",
    "#cost_model = \"cost_model.txt\"\n",
    "variable_values = \"variable_values.txt\""
   ]
  },
  {
   "cell_type": "code",
   "execution_count": 6,
   "id": "6d7d5a5f-6b82-4407-af3c-8b3191969691",
   "metadata": {},
   "outputs": [],
   "source": [
    "decl_path = os.path.join(input_path, \"declare\")\n",
    "pn_path = os.path.join(input_path, \"petrinet\")\n",
    "log_path = os.path.join(input_path, \"logs\")"
   ]
  },
  {
   "cell_type": "code",
   "execution_count": 7,
   "id": "a0be0ae6-d0e5-4e85-b233-bb1fc90d1e25",
   "metadata": {},
   "outputs": [],
   "source": [
    "decl_f = os.listdir(decl_path)\n",
    "pn_f = os.listdir(pn_path)\n",
    "\n",
    "decl_f = [f for f in decl_f if f[-4:] == \"decl\"]\n",
    "pn_f = [f for f in pn_f if f[-4:] == \"pnml\"]"
   ]
  },
  {
   "cell_type": "code",
   "execution_count": null,
   "id": "dbaf3f60",
   "metadata": {},
   "outputs": [
    {
     "data": {
      "text/plain": [
       "'a42g11XOR.pnml'"
      ]
     },
     "execution_count": 21,
     "metadata": {},
     "output_type": "execute_result"
    }
   ],
   "source": []
  },
  {
   "cell_type": "code",
   "execution_count": 43,
   "id": "a10542ab",
   "metadata": {},
   "outputs": [],
   "source": [
    "if \"cost_models\" not in os.listdir(input_path):\n",
    "    os.mkdir(os.path.join(input_path, \"cost_models\"))    \n",
    "    for pn in pn_f:\n",
    "        am = {}\n",
    "        with open(os.path.join(input_path, \"mappings\", f\"activityMapping_{pn}.txt\")) as fr:\n",
    "            for line in fr:\n",
    "                s = line.split(':')\n",
    "                am[s[0]] = s[1].split('\\n')[0]\n",
    "\n",
    "        pm = pm4py.read_pnml(os.path.join(pn_path, pn))\n",
    "        pnname = pn[:-5]\n",
    "        with open(os.path.join(input_path, \"cost_models\", f\"cost_model-{pnname}.txt\"), \"w+\") as f:\n",
    "            f.write(\"\\n\".join([am[t.label]+\" 1 2 1 2\" for t in pm[0].transitions]))\n",
    "\n",
    "    "
   ]
  },
  {
   "cell_type": "code",
   "execution_count": null,
   "id": "0ed2317b-08cc-4cfc-ad54-0be705f4869e",
   "metadata": {},
   "outputs": [],
   "source": [
    "if \"cost_models\" not in os.listdir(input_path):\n",
    "    os.mkdir(os.path.join(input_path, \"cost_models\"))    \n",
    "    for pn in pn_f:\n",
    "        pm = pm4py.read_pnml(os.path.join(pn_path, pn))\n",
    "        pnname = pn[:-5]\n",
    "        with open(os.path.join(input_path, \"cost_models\", f\"cost_model-{pnname}.txt\"), \"w+\") as f:\n",
    "            f.write(\"\\n\".join([t.label+\" 1 2 1 2\" for t in pm[0].transitions]))"
   ]
  },
  {
   "cell_type": "code",
   "execution_count": 40,
   "id": "6485a506",
   "metadata": {},
   "outputs": [],
   "source": [
    "for fm in os.listdir(os.path.join(input_path, \"mappings\")):\n",
    "    mydict = {}\n",
    "    with open(os.path.join(input_path, \"mappings\", fm), \"r\") as fmr:\n",
    "        for line in fmr:\n",
    "            s = line.split(':')\n",
    "            mydict[s[0]] = s[1].split('\\n')[0]\n",
    "    break"
   ]
  },
  {
   "cell_type": "code",
   "execution_count": 42,
   "id": "43b44688",
   "metadata": {},
   "outputs": [
    {
     "data": {
      "text/plain": [
       "'activityMapping_a20g6.pnml.txt'"
      ]
     },
     "execution_count": 42,
     "metadata": {},
     "output_type": "execute_result"
    }
   ],
   "source": [
    "fm"
   ]
  },
  {
   "cell_type": "code",
   "execution_count": null,
   "id": "8b5f0749-294b-4f61-b37e-a6728fd7fdf0",
   "metadata": {},
   "outputs": [
    {
     "name": "stdout",
     "output_type": "stream",
     "text": [
      "declare\\a20g6\\a20g6_1_parsed.decl petrinet\\a20g6.pnml logs\\a20g6.xes variable_sub\\variable_substitutions_a20g6_1.decl.txt\n",
      "declare\\a27g7XOR\\a27g7XOR_1_parsed.decl petrinet\\a27g7XOR.pnml logs\\a27g7XOR.xes variable_sub\\variable_substitutions_a27g7XOR_1.decl.txt\n",
      "declare\\a29g9AND\\a29g9AND_1_parsed.decl petrinet\\a29g9AND.pnml logs\\a29g9AND.xes variable_sub\\variable_substitutions_a29g9AND_1.decl.txt\n",
      "declare\\a35g6\\a35g6_1_parsed.decl petrinet\\a35g6.pnml logs\\a35g6.xes variable_sub\\variable_substitutions_a35g6_1.decl.txt\n",
      "declare\\a40g17AND\\a40g17AND_1_parsed.decl petrinet\\a40g17AND.pnml logs\\a40g17AND.xes variable_sub\\variable_substitutions_a40g17AND_1.decl.txt\n",
      "declare\\a42g11XOR\\a42g11XOR_1_parsed.decl petrinet\\a42g11XOR.pnml logs\\a42g11XOR.xes variable_sub\\variable_substitutions_a42g11XOR_1.decl.txt\n"
     ]
    }
   ],
   "source": [
    "for p_ in pn_f:\n",
    "    pname = p_[:-5]\n",
    "\n",
    "    if not (os.path.exists(os.path.join(decl_path, pname))):\n",
    "        continue\n",
    "    \n",
    "    declmods = os.listdir(os.path.join(decl_path, pname))\n",
    "        #print(p_, p_[:-5])\n",
    "    \n",
    "    cost_model = f\"cost_models/cost_model-{pname}.txt\"\n",
    "\n",
    "\n",
    "    # Does log exists?\n",
    "    #print(os.path.join(log_path, f\"{pname}.xes\"))\n",
    "    #print(os.path.exists(os.path.join(log_path, f\"{pname}.xes\")))\n",
    "    if not (os.path.exists(os.path.join(log_path, f\"{pname}.xes\"))):\n",
    "        continue   \n",
    "\n",
    "    for f in declmods:\n",
    "        if f[-4:] != \"decl\" or (\"parsed\" not in f):\n",
    "            continue\n",
    "        #print(f)\n",
    "        var_sub_file = f.split(\"_parsed\")[0]+\".decl.txt\"\n",
    "        var_sub_file = f\"variable_substitutions_{var_sub_file}\"\n",
    "        #print(os.path.exists(os.path.join(input_path, \"variable_subs\", f\"variable_substitutions_{var_sub_file}\")))\n",
    "        #print(f.split(\"_parsed\")[0]+\".decl.txt\")\n",
    "\n",
    "        decl_loc = f\"declare\\\\{pname}\\\\{f}\"\n",
    "        pn_loc = f\"petrinet\\\\{p_}\"\n",
    "        log_loc = f\"logs\\\\{pname}.xes\"\n",
    "        var_sub_loc = f\"variable_sub\\\\{var_sub_file}\"\n",
    "\n",
    "        print(decl_loc, pn_loc, log_loc, var_sub_loc)\n",
    "\n",
    "        subprocess.call(['java', '-jar', r'C:\\Users\\paulw\\Desktop\\numeric-PDDL_generator\\pddl_gen\\target\\pddl_gen-1.0-SNAPSHOT-launcher.jar', decl_loc, pn_loc, log_loc, variable_values, var_sub_loc, cost_model])\n",
    "\n",
    "        break\n",
    "    "
   ]
  },
  {
   "cell_type": "code",
   "execution_count": 25,
   "id": "60dfdd5e-b2b6-45c1-b23b-ea34472596db",
   "metadata": {},
   "outputs": [
    {
     "data": {
      "text/plain": [
       "1"
      ]
     },
     "execution_count": 25,
     "metadata": {},
     "output_type": "execute_result"
    }
   ],
   "source": [
    "os.system(r\"java -jar \\\"C:\\Users\\paulw\\Desktop\\numeric-PDDL_generator\\pddl_gen\\target\\pddl_gen-1.0-SNAPSHOT-launcher.jar\\\"\")"
   ]
  },
  {
   "cell_type": "code",
   "execution_count": 29,
   "id": "65bbe36f-aca9-4d6b-a107-6bb4cf6e7f57",
   "metadata": {},
   "outputs": [
    {
     "data": {
      "text/plain": [
       "1"
      ]
     },
     "execution_count": 29,
     "metadata": {},
     "output_type": "execute_result"
    }
   ],
   "source": [
    "\n",
    "subprocess.call(['java', '-jar', r'C:\\Users\\paulw\\Desktop\\numeric-PDDL_generator\\pddl_gen\\target\\pddl_gen-1.0-SNAPSHOT-launcher.jar'])"
   ]
  },
  {
   "cell_type": "code",
   "execution_count": null,
   "id": "53e21605-c21f-416d-ba5a-5b317c70c659",
   "metadata": {},
   "outputs": [],
   "source": []
  }
 ],
 "metadata": {
  "kernelspec": {
   "display_name": "nesy",
   "language": "python",
   "name": "python3"
  },
  "language_info": {
   "codemirror_mode": {
    "name": "ipython",
    "version": 3
   },
   "file_extension": ".py",
   "mimetype": "text/x-python",
   "name": "python",
   "nbconvert_exporter": "python",
   "pygments_lexer": "ipython3",
   "version": "3.10.18"
  }
 },
 "nbformat": 4,
 "nbformat_minor": 5
}
